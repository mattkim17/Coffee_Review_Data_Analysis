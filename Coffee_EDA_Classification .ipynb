{
 "cells": [
  {
   "cell_type": "markdown",
   "metadata": {},
   "source": [
    "# Coffee Analysis - Exploratory Analysis and Classification"
   ]
  },
  {
   "cell_type": "markdown",
   "metadata": {},
   "source": [
    "Import the necessary libraries to graph and plot data"
   ]
  },
  {
   "cell_type": "code",
   "execution_count": 11,
   "metadata": {},
   "outputs": [],
   "source": [
    "import numpy as np \n",
    "import pandas as pd \n",
    "import csv \n",
    "import seaborn as sns\n",
    "import matplotlib \n",
    "import matplotlib.pyplot as plt\n",
    "%matplotlib inline\n"
   ]
  },
  {
   "cell_type": "code",
   "execution_count": 258,
   "metadata": {},
   "outputs": [],
   "source": [
    "df = pd.read_csv('Coffee_Reviews_data_3.csv', index_col = 0)"
   ]
  },
  {
   "cell_type": "code",
   "execution_count": 203,
   "metadata": {},
   "outputs": [
    {
     "name": "stdout",
     "output_type": "stream",
     "text": [
      "<class 'pandas.core.frame.DataFrame'>\n",
      "Int64Index: 3740 entries, 0 to 3739\n",
      "Data columns (total 11 columns):\n",
      " #   Column            Non-Null Count  Dtype  \n",
      "---  ------            --------------  -----  \n",
      " 0   Product_Name      3740 non-null   object \n",
      " 1   Rating            3740 non-null   int64  \n",
      " 2   Coffee_Origin     3740 non-null   object \n",
      " 3   Roast_level       3671 non-null   object \n",
      " 4   Agtron            3740 non-null   object \n",
      " 5   Est.Price         3702 non-null   object \n",
      " 6   Aroma_level       3732 non-null   float64\n",
      " 7   Acidity_level     3732 non-null   float64\n",
      " 8   Flavor_level      3732 non-null   float64\n",
      " 9   Aftertaste_level  3731 non-null   float64\n",
      " 10  Blind_assesment   3731 non-null   object \n",
      "dtypes: float64(4), int64(1), object(6)\n",
      "memory usage: 350.6+ KB\n"
     ]
    }
   ],
   "source": [
    "df.info()"
   ]
  },
  {
   "cell_type": "markdown",
   "metadata": {},
   "source": [
    "# Feature Engineering\n",
    "\n",
    "Features that I will be manipulating are \"Est.Price\" and \"Coffee_Origin\". \n",
    "\n",
    "In the current dataframe, the prices of the coffee beans vary in price in several ways:\n",
    "- Currency is different across coffee products (i.e. Hong Kong dollars, USD, Canadian dollars, etc.) \n",
    "- Pricing per unit (i.e. per 100 grams, per 2 ounces, per capsule, etc.) \n",
    "\n",
    "#### reprice_update function will reformat the prices of the coffee beans into USD per 100 grams.* \n",
    "\n",
    "\n",
    "For coffee origin, the country name is not the only words inside coffee_origin. The entries in this column vary in the following ways:\n",
    "- Province \n",
    "- City\n",
    "- Country\n",
    "\n",
    "#### origin_sorter function will reformat the origin of the coffee beans into the region they are from (Africa, Americas, Asia)\n",
    "\n",
    "For easier classification, I sorted the Coffee_Origin by continent instead of country, as there were too many different countries. Additionally, I did not include blends of coffee which use a mixture of coffee beans from varying regions.\n",
    "\n",
    "\n",
    "#### quality function\n",
    "Additionally, I will be adding one more feature: \"Quality\". The quality function takes the difference between the two agtron values. The first value gets the color of coffee beans before roast and the second value for after roast. Having a smaller difference indicates a more consistent roast. "
   ]
  },
  {
   "cell_type": "code",
   "execution_count": 14,
   "metadata": {},
   "outputs": [],
   "source": [
    "def reprice_update(x):\n",
    "    try: \n",
    "        singles = x.split()\n",
    "\n",
    "        if \"NT\" in singles:  #0.035 USD : 1 NT \n",
    "            if singles[-1] in [\"ounces\", \"ounce\", \"oz.\"]:\n",
    "                price = x.strip(\"NT\").strip(\"ounces $ £\").replace(',',\"\")\n",
    "                price = price.split(\"/\")\n",
    "                new_price = float(price[0])/float(price[1]) * (1/28.3495*100)*0.035 \n",
    "\n",
    "                return(round(new_price,2))\n",
    "\n",
    "            if singles[-1] in [\"grams\",\"gram\",\"g\"]:\n",
    "                price = x.strip(\"NT\").strip(\"gram grams $ £\").replace(',',\"\")\n",
    "                price = price.split(\"/\")\n",
    "                new_price = float(price[0])/float(price[1]) * 100 * 0.035\n",
    "                return(round(new_price,2))\n",
    "\n",
    "        elif \"CAD\" in singles: #0.78 USD : 1 CAD\n",
    "            if singles[-1] in [\"ounces\", \"ounce\", \"oz.\"]:\n",
    "                price = x.strip(\"CAD\").strip(\"ounces $ £\").replace(',',\"\")\n",
    "                price = price.split(\"/\")\n",
    "                new_price = float(price[0])/float(price[1]) * (1/28.3495*100)*0.78 \n",
    "\n",
    "                return(round(new_price,2))\n",
    "\n",
    "            if singles[-1] in [\"grams\",\"gram\",\"g\"]:\n",
    "                price = x.strip(\"CAD\").strip(\"gram grams $ £\").replace(',',\"\")\n",
    "                price = price.split(\"/\")\n",
    "                new_price = float(price[0])/float(price[1]) * 100 * 0.78\n",
    "                return(round(new_price,2))\n",
    "\n",
    "        elif \"HK\" in singles: #0.13 USD : 1 HKD \n",
    "            if singles[-1] in [\"ounces\", \"ounce\", \"oz.\"]:\n",
    "                price = x.strip(\"HK\").strip(\"ounces $ £\").replace(',',\"\")\n",
    "                price = price.split(\"/\")\n",
    "                new_price = float(price[0])/float(price[1]) * (1/28.3495*100)*0.13 \n",
    "\n",
    "                return(round(new_price,2))\n",
    "\n",
    "            if singles[-1] in [\"grams\",\"gram\",\"g\"]:\n",
    "                price = x.strip(\"HK\").strip(\"gram grams $ £\").replace(',',\"\")\n",
    "                price = price.split(\"/\")\n",
    "                new_price = float(price[0])/float(price[1]) * 100 * 0.13\n",
    "                return(round(new_price,2))\n",
    "\n",
    "        elif \"US\" in singles: #1 USD : 1 USD \n",
    "            if singles[-1] in [\"ounces\", \"ounce\", \"oz.\"]:\n",
    "                price = x.strip(\"US\").strip(\"ounces $ £\").replace(',',\"\")\n",
    "                price = price.split(\"/\")\n",
    "                new_price = float(price[0])/float(price[1]) * (1/28.3495*100)\n",
    "\n",
    "                return(round(new_price,2))\n",
    "\n",
    "            if singles[-1] in [\"grams\",\"gram\",\"g\"]:\n",
    "                price = x.strip(\"US\").strip(\"gram grams $ £\").replace(',',\"\")\n",
    "                price = price.split(\"/\")\n",
    "                new_price = float(price[0])/float(price[1]) * 100 \n",
    "                return(round(new_price,2))\n",
    "            \n",
    "        elif (singles[0] not in [\"US\",\"CAD\",\"NT\",\"HK\"]): \n",
    "            \n",
    "            if singles[-1] in [\"ounces\", \"ounce\", \"oz.\"]:\n",
    "                price = x.strip(\"US\").strip(\"ounces $ £\").replace(',',\"\")\n",
    "                price = price.split(\"/\")\n",
    "                new_price = float(price[0])/float(price[1]) * (1/28.3495*100)\n",
    "\n",
    "                return(round(new_price,2))\n",
    "\n",
    "            if singles[-1] in [\"grams\",\"gram\",\"g\"]:\n",
    "                price = x.strip(\"US\").strip(\"gram grams $ £\").replace(',',\"\")\n",
    "                price = price.split(\"/\")\n",
    "                new_price = float(price[0])/float(price[1]) * 100 \n",
    "                return(round(new_price,2))\n",
    "\n",
    "    except: \n",
    "        return None"
   ]
  },
  {
   "cell_type": "code",
   "execution_count": 44,
   "metadata": {},
   "outputs": [],
   "source": [
    "import pycountry\n",
    "\n",
    "from pycountry_convert import country_alpha2_to_continent_code, convert_continent_code_to_continent_name"
   ]
  },
  {
   "cell_type": "code",
   "execution_count": 107,
   "metadata": {},
   "outputs": [],
   "source": [
    "def countriesbycontinent(cont):\n",
    "    countries = []\n",
    "    continent = []\n",
    "    for i in range(len(pycountry.countries)):\n",
    "        try:\n",
    "            country_info = list(pycountry.countries)[i]\n",
    "            country_name = country_info.name\n",
    "            country_alpha2 = country_info.alpha_2\n",
    "\n",
    "            cont_code = country_alpha2_to_continent_code(country_alpha2)\n",
    "            continent_name = convert_continent_code_to_continent_name(cont_code)\n",
    "\n",
    "            if continent_name == cont:\n",
    "                countries.append(country_name)\n",
    "\n",
    "            else: \n",
    "                continue\n",
    "        \n",
    "        except: \n",
    "            continue\n",
    "            \n",
    "    return [x.split()[0].strip(\",\") for x in countries]"
   ]
  },
  {
   "cell_type": "code",
   "execution_count": 109,
   "metadata": {},
   "outputs": [],
   "source": [
    "def origin_sorter(x):  #This only sorts coffee beans with single origin, does not include blends \n",
    "\n",
    "    #     origins = [\"Ethiopia\", \"Colombia\", \"Costa Rica\", \"Panama\",\"Honduras\",\"Guatemala\", \"Kenya\", \"Mexico\", \"Hawai’i\", \"Sumatra\"]\n",
    "    #     africa = [\"Ethiopia\", \"Kenya\",\"Africa\", \"Uganda\", \"Haiti\", \"Rwanda\",\"Congo\"]\n",
    "    #     americas = [\"Rica\", \"Panama\", \"Honduras\", \"Guatemala\", \"Mexico\", \"Salvador\", \n",
    "    #               \"Nicaragua\", \"Colombia\", \"Brazil\", \"Uruguay\", \"Peru\", \"Ecuador\", \"Bolivia\"]\n",
    "    #     asia = [\"Sumatra\",\"Thailand\",\"Phillipines\", \"Vietnam\", \"Taiwan\", \"Indonesia\"]\n",
    "    #     south_am = [\"Colombia\", \"Brazil\", \"Uruguay\", \"Peru\"]\n",
    "\n",
    "    \n",
    "    africa = countriesbycontinent(\"Africa\")\n",
    "    asia = countriesbycontinent(\"Asia\")\n",
    "    americas = countriesbycontinent(\"South America\")+countriesbycontinent(\"North America\")\n",
    "    \n",
    "    coffee_origin = x.split()\n",
    "\n",
    "    for country in africa:\n",
    "        \n",
    "        \n",
    "        if country in coffee_origin:\n",
    "            \n",
    "            return \"Africa\"\n",
    "            \n",
    "        \n",
    "        else:\n",
    "            continue       \n",
    "            \n",
    "    \n",
    "    for country in americas:\n",
    "        \n",
    "        \n",
    "        if country in coffee_origin:\n",
    "            \n",
    "            return \"Americas\"\n",
    "            \n",
    "        \n",
    "        else:\n",
    "            continue       \n",
    "        \n",
    "    for country in asia:\n",
    "        \n",
    "        \n",
    "        if country in coffee_origin:\n",
    "            \n",
    "            return \"Asia\"\n",
    "            \n",
    "        \n",
    "        else:\n",
    "            continue  \n",
    "    "
   ]
  },
  {
   "cell_type": "code",
   "execution_count": 94,
   "metadata": {},
   "outputs": [],
   "source": [
    "def quality(x):\n",
    "    try:\n",
    "        roast_color = x.split(\"/\")\n",
    "        quality = int(roast_color[1])-int(roast_color[0])\n",
    "    \n",
    "        return quality \n",
    "    \n",
    "    except:\n",
    "        return None"
   ]
  },
  {
   "cell_type": "code",
   "execution_count": 259,
   "metadata": {},
   "outputs": [],
   "source": [
    "df[\"Quality\"] = df[\"Agtron\"].apply(quality)"
   ]
  },
  {
   "cell_type": "code",
   "execution_count": 260,
   "metadata": {},
   "outputs": [],
   "source": [
    "df[\"Est.Price\"] = df[\"Est.Price\"].apply(reprice_update)  #changing price to $ per 100 grams\n",
    "df[\"Coffee_Origin\"] = df[\"Coffee_Origin\"].apply(origin_sorter) #simplfying the origin\n",
    "df['Coffee_Origin'].fillna(value=\"Other\", inplace=True)"
   ]
  },
  {
   "cell_type": "code",
   "execution_count": 262,
   "metadata": {},
   "outputs": [
    {
     "data": {
      "text/html": [
       "<div>\n",
       "<style scoped>\n",
       "    .dataframe tbody tr th:only-of-type {\n",
       "        vertical-align: middle;\n",
       "    }\n",
       "\n",
       "    .dataframe tbody tr th {\n",
       "        vertical-align: top;\n",
       "    }\n",
       "\n",
       "    .dataframe thead th {\n",
       "        text-align: right;\n",
       "    }\n",
       "</style>\n",
       "<table border=\"1\" class=\"dataframe\">\n",
       "  <thead>\n",
       "    <tr style=\"text-align: right;\">\n",
       "      <th></th>\n",
       "      <th>Product_Name</th>\n",
       "      <th>Rating</th>\n",
       "      <th>Coffee_Origin</th>\n",
       "      <th>Roast_level</th>\n",
       "      <th>Agtron</th>\n",
       "      <th>Est.Price</th>\n",
       "      <th>Aroma_level</th>\n",
       "      <th>Acidity_level</th>\n",
       "      <th>Flavor_level</th>\n",
       "      <th>Aftertaste_level</th>\n",
       "      <th>Blind_assesment</th>\n",
       "      <th>Quality</th>\n",
       "    </tr>\n",
       "  </thead>\n",
       "  <tbody>\n",
       "    <tr>\n",
       "      <th>0</th>\n",
       "      <td>Colombia Planadas</td>\n",
       "      <td>92</td>\n",
       "      <td>Americas</td>\n",
       "      <td>Medium-Light</td>\n",
       "      <td>52/70</td>\n",
       "      <td>4.41</td>\n",
       "      <td>9.0</td>\n",
       "      <td>8.0</td>\n",
       "      <td>8.0</td>\n",
       "      <td>9.0</td>\n",
       "      <td>Chocolaty and sweetly nut-toned. Baking chocol...</td>\n",
       "      <td>18.0</td>\n",
       "    </tr>\n",
       "    <tr>\n",
       "      <th>1</th>\n",
       "      <td>Ethiopia Sidama Bensa Bekele</td>\n",
       "      <td>91</td>\n",
       "      <td>Africa</td>\n",
       "      <td>Medium-Light</td>\n",
       "      <td>57/77</td>\n",
       "      <td>6.17</td>\n",
       "      <td>8.0</td>\n",
       "      <td>8.0</td>\n",
       "      <td>8.0</td>\n",
       "      <td>9.0</td>\n",
       "      <td>Crisply sweet, citrusy. Orange zest, cocoa pow...</td>\n",
       "      <td>20.0</td>\n",
       "    </tr>\n",
       "    <tr>\n",
       "      <th>2</th>\n",
       "      <td>Bowstring Christmas Blend</td>\n",
       "      <td>92</td>\n",
       "      <td>Africa</td>\n",
       "      <td>Medium</td>\n",
       "      <td>50/66</td>\n",
       "      <td>5.88</td>\n",
       "      <td>9.0</td>\n",
       "      <td>8.0</td>\n",
       "      <td>8.0</td>\n",
       "      <td>9.0</td>\n",
       "      <td>Sweet-toned, chocolaty. Baking chocolate, date...</td>\n",
       "      <td>16.0</td>\n",
       "    </tr>\n",
       "    <tr>\n",
       "      <th>3</th>\n",
       "      <td>Peru Yanesha Geisha</td>\n",
       "      <td>94</td>\n",
       "      <td>Americas</td>\n",
       "      <td>Medium-Light</td>\n",
       "      <td>61/79</td>\n",
       "      <td>6.94</td>\n",
       "      <td>9.0</td>\n",
       "      <td>9.0</td>\n",
       "      <td>9.0</td>\n",
       "      <td>9.0</td>\n",
       "      <td>Deeply floral, cocoa-toned. Lilac, dark chocol...</td>\n",
       "      <td>18.0</td>\n",
       "    </tr>\n",
       "    <tr>\n",
       "      <th>4</th>\n",
       "      <td>Vertical Support Espresso</td>\n",
       "      <td>90</td>\n",
       "      <td>Other</td>\n",
       "      <td>Medium</td>\n",
       "      <td>46/60</td>\n",
       "      <td>4.12</td>\n",
       "      <td>8.0</td>\n",
       "      <td>8.0</td>\n",
       "      <td>9.0</td>\n",
       "      <td>7.0</td>\n",
       "      <td>Evaluated as espresso. Chocolaty and nut-toned...</td>\n",
       "      <td>14.0</td>\n",
       "    </tr>\n",
       "  </tbody>\n",
       "</table>\n",
       "</div>"
      ],
      "text/plain": [
       "                   Product_Name  Rating Coffee_Origin   Roast_level Agtron  \\\n",
       "0             Colombia Planadas      92      Americas  Medium-Light  52/70   \n",
       "1  Ethiopia Sidama Bensa Bekele      91        Africa  Medium-Light  57/77   \n",
       "2     Bowstring Christmas Blend      92        Africa        Medium  50/66   \n",
       "3           Peru Yanesha Geisha      94      Americas  Medium-Light  61/79   \n",
       "4     Vertical Support Espresso      90         Other        Medium  46/60   \n",
       "\n",
       "   Est.Price  Aroma_level  Acidity_level  Flavor_level  Aftertaste_level  \\\n",
       "0       4.41          9.0            8.0           8.0               9.0   \n",
       "1       6.17          8.0            8.0           8.0               9.0   \n",
       "2       5.88          9.0            8.0           8.0               9.0   \n",
       "3       6.94          9.0            9.0           9.0               9.0   \n",
       "4       4.12          8.0            8.0           9.0               7.0   \n",
       "\n",
       "                                     Blind_assesment  Quality  \n",
       "0  Chocolaty and sweetly nut-toned. Baking chocol...     18.0  \n",
       "1  Crisply sweet, citrusy. Orange zest, cocoa pow...     20.0  \n",
       "2  Sweet-toned, chocolaty. Baking chocolate, date...     16.0  \n",
       "3  Deeply floral, cocoa-toned. Lilac, dark chocol...     18.0  \n",
       "4  Evaluated as espresso. Chocolaty and nut-toned...     14.0  "
      ]
     },
     "execution_count": 262,
     "metadata": {},
     "output_type": "execute_result"
    }
   ],
   "source": [
    "df.head()"
   ]
  },
  {
   "cell_type": "code",
   "execution_count": 263,
   "metadata": {},
   "outputs": [
    {
     "data": {
      "text/plain": [
       "Other       1400\n",
       "Africa      1092\n",
       "Americas    1076\n",
       "Asia         172\n",
       "Name: Coffee_Origin, dtype: int64"
      ]
     },
     "execution_count": 263,
     "metadata": {},
     "output_type": "execute_result"
    }
   ],
   "source": [
    "df[\"Coffee_Origin\"].value_counts()  "
   ]
  },
  {
   "cell_type": "markdown",
   "metadata": {},
   "source": [
    "#### We can see that there is a significant number of blends in these reviews. They will be removed to focus on classifying coffees from a single origin."
   ]
  },
  {
   "cell_type": "code",
   "execution_count": 222,
   "metadata": {},
   "outputs": [],
   "source": [
    "pd.set_option('display.max_columns', None)"
   ]
  },
  {
   "cell_type": "code",
   "execution_count": 264,
   "metadata": {},
   "outputs": [
    {
     "data": {
      "text/html": [
       "<div>\n",
       "<style scoped>\n",
       "    .dataframe tbody tr th:only-of-type {\n",
       "        vertical-align: middle;\n",
       "    }\n",
       "\n",
       "    .dataframe tbody tr th {\n",
       "        vertical-align: top;\n",
       "    }\n",
       "\n",
       "    .dataframe thead tr th {\n",
       "        text-align: left;\n",
       "    }\n",
       "\n",
       "    .dataframe thead tr:last-of-type th {\n",
       "        text-align: right;\n",
       "    }\n",
       "</style>\n",
       "<table border=\"1\" class=\"dataframe\">\n",
       "  <thead>\n",
       "    <tr>\n",
       "      <th></th>\n",
       "      <th colspan=\"8\" halign=\"left\">Aroma_level</th>\n",
       "      <th colspan=\"8\" halign=\"left\">Acidity_level</th>\n",
       "      <th colspan=\"8\" halign=\"left\">Flavor_level</th>\n",
       "      <th colspan=\"8\" halign=\"left\">Aftertaste_level</th>\n",
       "    </tr>\n",
       "    <tr>\n",
       "      <th></th>\n",
       "      <th>count</th>\n",
       "      <th>mean</th>\n",
       "      <th>std</th>\n",
       "      <th>min</th>\n",
       "      <th>25%</th>\n",
       "      <th>50%</th>\n",
       "      <th>75%</th>\n",
       "      <th>max</th>\n",
       "      <th>count</th>\n",
       "      <th>mean</th>\n",
       "      <th>std</th>\n",
       "      <th>min</th>\n",
       "      <th>25%</th>\n",
       "      <th>50%</th>\n",
       "      <th>75%</th>\n",
       "      <th>max</th>\n",
       "      <th>count</th>\n",
       "      <th>mean</th>\n",
       "      <th>std</th>\n",
       "      <th>min</th>\n",
       "      <th>25%</th>\n",
       "      <th>50%</th>\n",
       "      <th>75%</th>\n",
       "      <th>max</th>\n",
       "      <th>count</th>\n",
       "      <th>mean</th>\n",
       "      <th>std</th>\n",
       "      <th>min</th>\n",
       "      <th>25%</th>\n",
       "      <th>50%</th>\n",
       "      <th>75%</th>\n",
       "      <th>max</th>\n",
       "    </tr>\n",
       "    <tr>\n",
       "      <th>Coffee_Origin</th>\n",
       "      <th></th>\n",
       "      <th></th>\n",
       "      <th></th>\n",
       "      <th></th>\n",
       "      <th></th>\n",
       "      <th></th>\n",
       "      <th></th>\n",
       "      <th></th>\n",
       "      <th></th>\n",
       "      <th></th>\n",
       "      <th></th>\n",
       "      <th></th>\n",
       "      <th></th>\n",
       "      <th></th>\n",
       "      <th></th>\n",
       "      <th></th>\n",
       "      <th></th>\n",
       "      <th></th>\n",
       "      <th></th>\n",
       "      <th></th>\n",
       "      <th></th>\n",
       "      <th></th>\n",
       "      <th></th>\n",
       "      <th></th>\n",
       "      <th></th>\n",
       "      <th></th>\n",
       "      <th></th>\n",
       "      <th></th>\n",
       "      <th></th>\n",
       "      <th></th>\n",
       "      <th></th>\n",
       "      <th></th>\n",
       "    </tr>\n",
       "  </thead>\n",
       "  <tbody>\n",
       "    <tr>\n",
       "      <th>Africa</th>\n",
       "      <td>1090.0</td>\n",
       "      <td>8.751376</td>\n",
       "      <td>0.545137</td>\n",
       "      <td>4.0</td>\n",
       "      <td>9.0</td>\n",
       "      <td>9.0</td>\n",
       "      <td>9.0</td>\n",
       "      <td>10.0</td>\n",
       "      <td>1090.0</td>\n",
       "      <td>8.400000</td>\n",
       "      <td>0.638237</td>\n",
       "      <td>2.0</td>\n",
       "      <td>8.0</td>\n",
       "      <td>8.0</td>\n",
       "      <td>9.0</td>\n",
       "      <td>9.0</td>\n",
       "      <td>1090.0</td>\n",
       "      <td>8.538532</td>\n",
       "      <td>0.562757</td>\n",
       "      <td>6.0</td>\n",
       "      <td>8.0</td>\n",
       "      <td>9.0</td>\n",
       "      <td>9.0</td>\n",
       "      <td>10.0</td>\n",
       "      <td>1089.0</td>\n",
       "      <td>8.760331</td>\n",
       "      <td>0.646289</td>\n",
       "      <td>2.0</td>\n",
       "      <td>9.0</td>\n",
       "      <td>9.0</td>\n",
       "      <td>9.0</td>\n",
       "      <td>10.0</td>\n",
       "    </tr>\n",
       "    <tr>\n",
       "      <th>Americas</th>\n",
       "      <td>1074.0</td>\n",
       "      <td>8.599628</td>\n",
       "      <td>0.698714</td>\n",
       "      <td>2.0</td>\n",
       "      <td>8.0</td>\n",
       "      <td>9.0</td>\n",
       "      <td>9.0</td>\n",
       "      <td>10.0</td>\n",
       "      <td>1074.0</td>\n",
       "      <td>8.234637</td>\n",
       "      <td>0.750813</td>\n",
       "      <td>1.0</td>\n",
       "      <td>8.0</td>\n",
       "      <td>8.0</td>\n",
       "      <td>9.0</td>\n",
       "      <td>10.0</td>\n",
       "      <td>1074.0</td>\n",
       "      <td>8.429236</td>\n",
       "      <td>0.612941</td>\n",
       "      <td>5.0</td>\n",
       "      <td>8.0</td>\n",
       "      <td>8.0</td>\n",
       "      <td>9.0</td>\n",
       "      <td>10.0</td>\n",
       "      <td>1074.0</td>\n",
       "      <td>8.670391</td>\n",
       "      <td>0.759726</td>\n",
       "      <td>1.0</td>\n",
       "      <td>8.0</td>\n",
       "      <td>9.0</td>\n",
       "      <td>9.0</td>\n",
       "      <td>10.0</td>\n",
       "    </tr>\n",
       "    <tr>\n",
       "      <th>Asia</th>\n",
       "      <td>171.0</td>\n",
       "      <td>8.608187</td>\n",
       "      <td>0.714343</td>\n",
       "      <td>4.0</td>\n",
       "      <td>8.0</td>\n",
       "      <td>9.0</td>\n",
       "      <td>9.0</td>\n",
       "      <td>10.0</td>\n",
       "      <td>171.0</td>\n",
       "      <td>8.280702</td>\n",
       "      <td>0.768981</td>\n",
       "      <td>4.0</td>\n",
       "      <td>8.0</td>\n",
       "      <td>8.0</td>\n",
       "      <td>9.0</td>\n",
       "      <td>9.0</td>\n",
       "      <td>171.0</td>\n",
       "      <td>8.502924</td>\n",
       "      <td>0.567495</td>\n",
       "      <td>7.0</td>\n",
       "      <td>8.0</td>\n",
       "      <td>9.0</td>\n",
       "      <td>9.0</td>\n",
       "      <td>10.0</td>\n",
       "      <td>171.0</td>\n",
       "      <td>8.701754</td>\n",
       "      <td>0.818138</td>\n",
       "      <td>3.0</td>\n",
       "      <td>8.0</td>\n",
       "      <td>9.0</td>\n",
       "      <td>9.0</td>\n",
       "      <td>10.0</td>\n",
       "    </tr>\n",
       "    <tr>\n",
       "      <th>Other</th>\n",
       "      <td>1397.0</td>\n",
       "      <td>8.494631</td>\n",
       "      <td>0.790891</td>\n",
       "      <td>2.0</td>\n",
       "      <td>8.0</td>\n",
       "      <td>9.0</td>\n",
       "      <td>9.0</td>\n",
       "      <td>10.0</td>\n",
       "      <td>1397.0</td>\n",
       "      <td>8.141732</td>\n",
       "      <td>0.820553</td>\n",
       "      <td>1.0</td>\n",
       "      <td>8.0</td>\n",
       "      <td>8.0</td>\n",
       "      <td>9.0</td>\n",
       "      <td>10.0</td>\n",
       "      <td>1397.0</td>\n",
       "      <td>8.280601</td>\n",
       "      <td>0.621951</td>\n",
       "      <td>5.0</td>\n",
       "      <td>8.0</td>\n",
       "      <td>8.0</td>\n",
       "      <td>9.0</td>\n",
       "      <td>10.0</td>\n",
       "      <td>1397.0</td>\n",
       "      <td>8.568361</td>\n",
       "      <td>0.882300</td>\n",
       "      <td>2.0</td>\n",
       "      <td>8.0</td>\n",
       "      <td>9.0</td>\n",
       "      <td>9.0</td>\n",
       "      <td>10.0</td>\n",
       "    </tr>\n",
       "  </tbody>\n",
       "</table>\n",
       "</div>"
      ],
      "text/plain": [
       "              Aroma_level                                                \\\n",
       "                    count      mean       std  min  25%  50%  75%   max   \n",
       "Coffee_Origin                                                             \n",
       "Africa             1090.0  8.751376  0.545137  4.0  9.0  9.0  9.0  10.0   \n",
       "Americas           1074.0  8.599628  0.698714  2.0  8.0  9.0  9.0  10.0   \n",
       "Asia                171.0  8.608187  0.714343  4.0  8.0  9.0  9.0  10.0   \n",
       "Other              1397.0  8.494631  0.790891  2.0  8.0  9.0  9.0  10.0   \n",
       "\n",
       "              Acidity_level                                                \\\n",
       "                      count      mean       std  min  25%  50%  75%   max   \n",
       "Coffee_Origin                                                               \n",
       "Africa               1090.0  8.400000  0.638237  2.0  8.0  8.0  9.0   9.0   \n",
       "Americas             1074.0  8.234637  0.750813  1.0  8.0  8.0  9.0  10.0   \n",
       "Asia                  171.0  8.280702  0.768981  4.0  8.0  8.0  9.0   9.0   \n",
       "Other                1397.0  8.141732  0.820553  1.0  8.0  8.0  9.0  10.0   \n",
       "\n",
       "              Flavor_level                                                \\\n",
       "                     count      mean       std  min  25%  50%  75%   max   \n",
       "Coffee_Origin                                                              \n",
       "Africa              1090.0  8.538532  0.562757  6.0  8.0  9.0  9.0  10.0   \n",
       "Americas            1074.0  8.429236  0.612941  5.0  8.0  8.0  9.0  10.0   \n",
       "Asia                 171.0  8.502924  0.567495  7.0  8.0  9.0  9.0  10.0   \n",
       "Other               1397.0  8.280601  0.621951  5.0  8.0  8.0  9.0  10.0   \n",
       "\n",
       "              Aftertaste_level                                                \n",
       "                         count      mean       std  min  25%  50%  75%   max  \n",
       "Coffee_Origin                                                                 \n",
       "Africa                  1089.0  8.760331  0.646289  2.0  9.0  9.0  9.0  10.0  \n",
       "Americas                1074.0  8.670391  0.759726  1.0  8.0  9.0  9.0  10.0  \n",
       "Asia                     171.0  8.701754  0.818138  3.0  8.0  9.0  9.0  10.0  \n",
       "Other                   1397.0  8.568361  0.882300  2.0  8.0  9.0  9.0  10.0  "
      ]
     },
     "execution_count": 264,
     "metadata": {},
     "output_type": "execute_result"
    }
   ],
   "source": [
    "data1 = df[df[\"Coffee_Origin\"]!= \"Other\"]\n",
    "\n",
    "descr = (df[[\"Coffee_Origin\",\"Aroma_level\",\"Acidity_level\", \"Flavor_level\",\"Aftertaste_level\"]].groupby(\"Coffee_Origin\").describe())\n",
    "# round(df[df[\"Coffee_Origin\"]==\"Africa\"].describe(),2)\n",
    "descr"
   ]
  },
  {
   "cell_type": "markdown",
   "metadata": {},
   "source": [
    "#### Seeing the descriptive statistics here, there is not much variation in the Aroma, Acidity, Flavor, and Aftertaste levels across each region. They all seem to range mostly between 8-9 and this can make it difficult for classifier algorithims to distinguish the coffee origins. "
   ]
  },
  {
   "cell_type": "code",
   "execution_count": 269,
   "metadata": {},
   "outputs": [
    {
     "data": {
      "text/html": [
       "<div>\n",
       "<style scoped>\n",
       "    .dataframe tbody tr th:only-of-type {\n",
       "        vertical-align: middle;\n",
       "    }\n",
       "\n",
       "    .dataframe tbody tr th {\n",
       "        vertical-align: top;\n",
       "    }\n",
       "\n",
       "    .dataframe thead tr th {\n",
       "        text-align: left;\n",
       "    }\n",
       "\n",
       "    .dataframe thead tr:last-of-type th {\n",
       "        text-align: right;\n",
       "    }\n",
       "</style>\n",
       "<table border=\"1\" class=\"dataframe\">\n",
       "  <thead>\n",
       "    <tr>\n",
       "      <th></th>\n",
       "      <th colspan=\"8\" halign=\"left\">Rating</th>\n",
       "    </tr>\n",
       "    <tr>\n",
       "      <th></th>\n",
       "      <th>count</th>\n",
       "      <th>mean</th>\n",
       "      <th>std</th>\n",
       "      <th>min</th>\n",
       "      <th>25%</th>\n",
       "      <th>50%</th>\n",
       "      <th>75%</th>\n",
       "      <th>max</th>\n",
       "    </tr>\n",
       "    <tr>\n",
       "      <th>Coffee_Origin</th>\n",
       "      <th></th>\n",
       "      <th></th>\n",
       "      <th></th>\n",
       "      <th></th>\n",
       "      <th></th>\n",
       "      <th></th>\n",
       "      <th></th>\n",
       "      <th></th>\n",
       "    </tr>\n",
       "  </thead>\n",
       "  <tbody>\n",
       "    <tr>\n",
       "      <th>Africa</th>\n",
       "      <td>1092.0</td>\n",
       "      <td>92.819597</td>\n",
       "      <td>1.786357</td>\n",
       "      <td>79.0</td>\n",
       "      <td>92.0</td>\n",
       "      <td>93.0</td>\n",
       "      <td>94.0</td>\n",
       "      <td>97.0</td>\n",
       "    </tr>\n",
       "    <tr>\n",
       "      <th>Americas</th>\n",
       "      <td>1076.0</td>\n",
       "      <td>92.036245</td>\n",
       "      <td>2.384755</td>\n",
       "      <td>67.0</td>\n",
       "      <td>91.0</td>\n",
       "      <td>92.0</td>\n",
       "      <td>93.0</td>\n",
       "      <td>98.0</td>\n",
       "    </tr>\n",
       "    <tr>\n",
       "      <th>Asia</th>\n",
       "      <td>172.0</td>\n",
       "      <td>91.970930</td>\n",
       "      <td>2.269625</td>\n",
       "      <td>83.0</td>\n",
       "      <td>91.0</td>\n",
       "      <td>92.0</td>\n",
       "      <td>93.0</td>\n",
       "      <td>97.0</td>\n",
       "    </tr>\n",
       "    <tr>\n",
       "      <th>Other</th>\n",
       "      <td>1400.0</td>\n",
       "      <td>91.362143</td>\n",
       "      <td>3.713218</td>\n",
       "      <td>52.0</td>\n",
       "      <td>90.0</td>\n",
       "      <td>92.0</td>\n",
       "      <td>93.0</td>\n",
       "      <td>97.0</td>\n",
       "    </tr>\n",
       "  </tbody>\n",
       "</table>\n",
       "</div>"
      ],
      "text/plain": [
       "               Rating                                                   \n",
       "                count       mean       std   min   25%   50%   75%   max\n",
       "Coffee_Origin                                                           \n",
       "Africa         1092.0  92.819597  1.786357  79.0  92.0  93.0  94.0  97.0\n",
       "Americas       1076.0  92.036245  2.384755  67.0  91.0  92.0  93.0  98.0\n",
       "Asia            172.0  91.970930  2.269625  83.0  91.0  92.0  93.0  97.0\n",
       "Other          1400.0  91.362143  3.713218  52.0  90.0  92.0  93.0  97.0"
      ]
     },
     "execution_count": 269,
     "metadata": {},
     "output_type": "execute_result"
    }
   ],
   "source": [
    "rating = (df[[\"Coffee_Origin\", \"Rating\"]].groupby(\"Coffee_Origin\").describe())\n",
    "rating"
   ]
  },
  {
   "cell_type": "code",
   "execution_count": 145,
   "metadata": {},
   "outputs": [
    {
     "data": {
      "text/html": [
       "<div>\n",
       "<style scoped>\n",
       "    .dataframe tbody tr th:only-of-type {\n",
       "        vertical-align: middle;\n",
       "    }\n",
       "\n",
       "    .dataframe tbody tr th {\n",
       "        vertical-align: top;\n",
       "    }\n",
       "\n",
       "    .dataframe thead th {\n",
       "        text-align: right;\n",
       "    }\n",
       "</style>\n",
       "<table border=\"1\" class=\"dataframe\">\n",
       "  <thead>\n",
       "    <tr style=\"text-align: right;\">\n",
       "      <th></th>\n",
       "      <th>Rating</th>\n",
       "      <th>Est.Price</th>\n",
       "      <th>Aroma_level</th>\n",
       "      <th>Acidity_level</th>\n",
       "      <th>Flavor_level</th>\n",
       "      <th>Aftertaste_level</th>\n",
       "      <th>Quality</th>\n",
       "    </tr>\n",
       "    <tr>\n",
       "      <th>Coffee_Origin</th>\n",
       "      <th></th>\n",
       "      <th></th>\n",
       "      <th></th>\n",
       "      <th></th>\n",
       "      <th></th>\n",
       "      <th></th>\n",
       "      <th></th>\n",
       "    </tr>\n",
       "  </thead>\n",
       "  <tbody>\n",
       "    <tr>\n",
       "      <th>Africa</th>\n",
       "      <td>92.819597</td>\n",
       "      <td>7.011495</td>\n",
       "      <td>8.751376</td>\n",
       "      <td>8.400000</td>\n",
       "      <td>8.538532</td>\n",
       "      <td>8.760331</td>\n",
       "      <td>19.750926</td>\n",
       "    </tr>\n",
       "    <tr>\n",
       "      <th>Americas</th>\n",
       "      <td>92.036245</td>\n",
       "      <td>9.795969</td>\n",
       "      <td>8.599628</td>\n",
       "      <td>8.234637</td>\n",
       "      <td>8.429236</td>\n",
       "      <td>8.670391</td>\n",
       "      <td>18.380506</td>\n",
       "    </tr>\n",
       "    <tr>\n",
       "      <th>Asia</th>\n",
       "      <td>91.970930</td>\n",
       "      <td>7.656389</td>\n",
       "      <td>8.608187</td>\n",
       "      <td>8.280702</td>\n",
       "      <td>8.502924</td>\n",
       "      <td>8.701754</td>\n",
       "      <td>18.350877</td>\n",
       "    </tr>\n",
       "    <tr>\n",
       "      <th>Other</th>\n",
       "      <td>91.362143</td>\n",
       "      <td>6.515147</td>\n",
       "      <td>8.494631</td>\n",
       "      <td>8.141732</td>\n",
       "      <td>8.280601</td>\n",
       "      <td>8.568361</td>\n",
       "      <td>17.044798</td>\n",
       "    </tr>\n",
       "  </tbody>\n",
       "</table>\n",
       "</div>"
      ],
      "text/plain": [
       "                  Rating  Est.Price  Aroma_level  Acidity_level  Flavor_level  \\\n",
       "Coffee_Origin                                                                   \n",
       "Africa         92.819597   7.011495     8.751376       8.400000      8.538532   \n",
       "Americas       92.036245   9.795969     8.599628       8.234637      8.429236   \n",
       "Asia           91.970930   7.656389     8.608187       8.280702      8.502924   \n",
       "Other          91.362143   6.515147     8.494631       8.141732      8.280601   \n",
       "\n",
       "               Aftertaste_level    Quality  \n",
       "Coffee_Origin                               \n",
       "Africa                 8.760331  19.750926  \n",
       "Americas               8.670391  18.380506  \n",
       "Asia                   8.701754  18.350877  \n",
       "Other                  8.568361  17.044798  "
      ]
     },
     "execution_count": 145,
     "metadata": {},
     "output_type": "execute_result"
    }
   ],
   "source": [
    "df.groupby(\"Coffee_Origin\").mean()"
   ]
  },
  {
   "cell_type": "code",
   "execution_count": 225,
   "metadata": {},
   "outputs": [
    {
     "data": {
      "text/plain": [
       "Text(0.5, 1.0, 'Average Ratings of Coffee Bean by Origin')"
      ]
     },
     "execution_count": 225,
     "metadata": {},
     "output_type": "execute_result"
    },
    {
     "data": {
      "image/png": "[encoded data removed]",
      "text/plain": [
       "<Figure size 576x432 with 1 Axes>"
      ]
     },
     "metadata": {
      "needs_background": "light"
     },
     "output_type": "display_data"
    }
   ],
   "source": [
    "plt.figure(figsize =(8,6))\n",
    "\n",
    "sns.barplot(x = \"Coffee_Origin\", y= \"Rating\", data= data1)\n",
    "\n",
    "plt.title(\"Average Ratings of Coffee Bean by Origin\")"
   ]
  },
  {
   "cell_type": "code",
   "execution_count": 284,
   "metadata": {},
   "outputs": [],
   "source": [
    "flavor_profiles = df[[\"Coffee_Origin\",\"Aroma_level\",\"Acidity_level\", \"Flavor_level\",\"Aftertaste_level\"]].dropna()"
   ]
  },
  {
   "cell_type": "code",
   "execution_count": 294,
   "metadata": {},
   "outputs": [
    {
     "data": {
      "text/plain": [
       "<seaborn.axisgrid.PairGrid at 0x22525cf9708>"
      ]
     },
     "execution_count": 294,
     "metadata": {},
     "output_type": "execute_result"
    },
    {
     "data": {
      "image/png": "[encoded data removed]",
      "text/plain": [
       "<Figure size 802.5x720 with 20 Axes>"
      ]
     },
     "metadata": {
      "needs_background": "light"
     },
     "output_type": "display_data"
    }
   ],
   "source": [
    "sns.pairplot(flavor_profiles, hue = \"Coffee_Origin\", diag_kws={'bw': 0.3})"
   ]
  },
  {
   "cell_type": "code",
   "execution_count": 274,
   "metadata": {},
   "outputs": [
    {
     "data": {
      "text/plain": [
       "Text(0.5, 1.0, 'Acidity Level distribution across Coffee_Origin')"
      ]
     },
     "execution_count": 274,
     "metadata": {},
     "output_type": "execute_result"
    },
    {
     "data": {
      "image/png": "[encoded data removed]",
      "text/plain": [
       "<Figure size 576x432 with 1 Axes>"
      ]
     },
     "metadata": {
      "needs_background": "light"
     },
     "output_type": "display_data"
    }
   ],
   "source": [
    "plt.figure(figsize =(8,6))\n",
    "sns.boxplot(x=\"Coffee_Origin\",y=\"Acidity_level\", data = data1)\n",
    "plt.title(\"Acidity Level distribution across Coffee_Origin\")"
   ]
  },
  {
   "cell_type": "code",
   "execution_count": 164,
   "metadata": {},
   "outputs": [
    {
     "name": "stdout",
     "output_type": "stream",
     "text": [
      "Average price of coffee per 100 grams: $ 7.68\n"
     ]
    },
    {
     "data": {
      "image/png": "[encoded data removed]",
      "text/plain": [
       "<Figure size 864x432 with 1 Axes>"
      ]
     },
     "metadata": {
      "needs_background": "light"
     },
     "output_type": "display_data"
    }
   ],
   "source": [
    "plt.figure(figsize =(12,6))\n",
    "sns.distplot(df[\"Est.Price\"])\n",
    "print(\"Average price of coffee per 100 grams: $\", round(df[\"Est.Price\"].mean(), 2))"
   ]
  },
  {
   "cell_type": "code",
   "execution_count": 171,
   "metadata": {},
   "outputs": [
    {
     "data": {
      "text/plain": [
       "<matplotlib.axes._subplots.AxesSubplot at 0x22510544bc8>"
      ]
     },
     "execution_count": 171,
     "metadata": {},
     "output_type": "execute_result"
    },
    {
     "data": {
      "image/png": "[encoded data removed]",
      "text/plain": [
       "<Figure size 864x432 with 1 Axes>"
      ]
     },
     "metadata": {
      "needs_background": "light"
     },
     "output_type": "display_data"
    }
   ],
   "source": [
    "plt.figure(figsize =(12,6))\n",
    "sns.boxplot(x=\"Coffee_Origin\",y=\"Rating\", data = df)"
   ]
  },
  {
   "cell_type": "markdown",
   "metadata": {},
   "source": [
    "## Data Analysis Takeaways \n",
    "The plots indicate that there is no key significant feature that would help distinguish the different coffee types by origin, which can be difficult to predict coffee type by the characteristics assigned by the coffee reviewer. \n",
    "\n",
    "It is also interesting to see that the coffee reviews for each region have an average score of 90-92. The coffee reviewers on this website are either very lenient or their scoring metrics may be flawed in the sense that it assigns most coffee beans a relatively high score. "
   ]
  },
  {
   "cell_type": "markdown",
   "metadata": {},
   "source": [
    "## Preparing Data\n",
    "In this section, I am dropping data columns that may not be suitable/necessary for classifier algorithims such as paragraphs of reviews, agtron value (converted to quality earlier), and the product name. \n",
    "\n",
    "Additionally, the coffee origin and roast level is converted to categorical data. "
   ]
  },
  {
   "cell_type": "code",
   "execution_count": 241,
   "metadata": {},
   "outputs": [],
   "source": [
    "df.drop(['Blind_assesment','Product_Name','Agtron'], axis = 1, inplace = True)\n",
    "df = df[df.Coffee_Origin != \"Other\"]\n"
   ]
  },
  {
   "cell_type": "code",
   "execution_count": 242,
   "metadata": {},
   "outputs": [],
   "source": [
    "df.dropna(subset = ['Est.Price'], axis = 0, inplace=True)\n",
    "df.dropna(subset = ['Quality'], axis = 0, inplace=True)"
   ]
  },
  {
   "cell_type": "markdown",
   "metadata": {},
   "source": [
    "Categorical data is converted to numerical data using cat.codes"
   ]
  },
  {
   "cell_type": "code",
   "execution_count": 243,
   "metadata": {},
   "outputs": [],
   "source": [
    "df[\"Coffee_Origin\"] = df[\"Coffee_Origin\"].astype(\"category\").cat.codes\n",
    "df[\"Roast_level\"] = df[\"Roast_level\"].astype(\"category\").cat.codes\n",
    "\n",
    "# df2[[\"Rating\",\"Aroma_level\",\"Acidity_level\",\"Flavor_level\",\"Aftertaste_level\"]] = df2[[\"Rating\",\"Aroma_level\",\"Acidity_level\",\"Flavor_level\",\"Aftertaste_level\"]].astype(float)\n",
    "df[[\"Aroma_level\",\"Acidity_level\",\"Flavor_level\",\"Aftertaste_level\"]] = df[[\"Aroma_level\",\"Acidity_level\",\"Flavor_level\",\"Aftertaste_level\"]].astype(float)\n",
    "\n"
   ]
  },
  {
   "cell_type": "code",
   "execution_count": 256,
   "metadata": {},
   "outputs": [
    {
     "data": {
      "text/plain": [
       "<matplotlib.axes._subplots.AxesSubplot at 0x2251c5ad9c8>"
      ]
     },
     "execution_count": 256,
     "metadata": {},
     "output_type": "execute_result"
    },
    {
     "data": {
      "image/png": "[encoded data removed]",
      "text/plain": [
       "<Figure size 864x720 with 2 Axes>"
      ]
     },
     "metadata": {
      "needs_background": "light"
     },
     "output_type": "display_data"
    }
   ],
   "source": [
    "plt.figure(figsize =(12,10))\n",
    "\n",
    "sns.heatmap(df.corr(), annot= True, cmap= 'coolwarm')"
   ]
  },
  {
   "cell_type": "code",
   "execution_count": 245,
   "metadata": {},
   "outputs": [
    {
     "data": {
      "text/plain": [
       "Rating              0\n",
       "Coffee_Origin       0\n",
       "Roast_level         0\n",
       "Est.Price           0\n",
       "Aroma_level         0\n",
       "Acidity_level       0\n",
       "Flavor_level        0\n",
       "Aftertaste_level    0\n",
       "Quality             0\n",
       "dtype: int64"
      ]
     },
     "execution_count": 245,
     "metadata": {},
     "output_type": "execute_result"
    },
    {
     "data": {
      "image/png": "[encoded data removed]",
      "text/plain": [
       "<Figure size 864x432 with 1 Axes>"
      ]
     },
     "metadata": {
      "needs_background": "light"
     },
     "output_type": "display_data"
    }
   ],
   "source": [
    "plt.figure(figsize =(12,6))\n",
    "sns.heatmap(df.isnull(), cmap = 'viridis', yticklabels = False, cbar = False)\n",
    "\n",
    "df.isnull().sum()"
   ]
  },
  {
   "cell_type": "markdown",
   "metadata": {},
   "source": [
    "## Classifying Model - Random Forest Model \n",
    "\n",
    "Out of the various classifier models (XGBoost, Support Vector Machines, Decision trees), Random Forest Classifier yielded the highest accuracy. With the data, RFC has the advantage when intaking multiple features to classify, as random forest can determine which features are most important when making a prediction. At the bottom, I include which features RFC determined to be the most important when making the predictions"
   ]
  },
  {
   "cell_type": "code",
   "execution_count": 125,
   "metadata": {},
   "outputs": [],
   "source": [
    "from sklearn.model_selection import train_test_split\n",
    "from sklearn.ensemble import RandomForestClassifier\n",
    "from sklearn.metrics import classification_report\n",
    "from sklearn.metrics import confusion_matrix"
   ]
  },
  {
   "cell_type": "code",
   "execution_count": 126,
   "metadata": {},
   "outputs": [],
   "source": [
    "from sklearn.metrics import accuracy_score"
   ]
  },
  {
   "cell_type": "code",
   "execution_count": 246,
   "metadata": {},
   "outputs": [],
   "source": [
    "X = df.drop('Coffee_Origin', axis = 1)\n",
    "y = df['Coffee_Origin']"
   ]
  },
  {
   "cell_type": "code",
   "execution_count": 247,
   "metadata": {},
   "outputs": [],
   "source": [
    " X_train, X_test, y_train, y_test = train_test_split(X, y, test_size=0.6, shuffle = True)"
   ]
  },
  {
   "cell_type": "code",
   "execution_count": 248,
   "metadata": {},
   "outputs": [],
   "source": [
    "rfc = RandomForestClassifier(n_estimators=900, random_state = 21)"
   ]
  },
  {
   "cell_type": "code",
   "execution_count": 249,
   "metadata": {},
   "outputs": [
    {
     "data": {
      "text/plain": [
       "RandomForestClassifier(bootstrap=True, ccp_alpha=0.0, class_weight=None,\n",
       "                       criterion='gini', max_depth=None, max_features='auto',\n",
       "                       max_leaf_nodes=None, max_samples=None,\n",
       "                       min_impurity_decrease=0.0, min_impurity_split=None,\n",
       "                       min_samples_leaf=1, min_samples_split=2,\n",
       "                       min_weight_fraction_leaf=0.0, n_estimators=900,\n",
       "                       n_jobs=None, oob_score=False, random_state=21, verbose=0,\n",
       "                       warm_start=False)"
      ]
     },
     "execution_count": 249,
     "metadata": {},
     "output_type": "execute_result"
    }
   ],
   "source": [
    "rfc.fit(X_train, y_train)"
   ]
  },
  {
   "cell_type": "code",
   "execution_count": 250,
   "metadata": {},
   "outputs": [],
   "source": [
    "rfc_pred = rfc.predict(X_test)"
   ]
  },
  {
   "cell_type": "code",
   "execution_count": 251,
   "metadata": {},
   "outputs": [
    {
     "name": "stdout",
     "output_type": "stream",
     "text": [
      "[[356 225   4]\n",
      " [248 283  15]\n",
      " [ 47  41   1]]\n",
      "              precision    recall  f1-score   support\n",
      "\n",
      "           0       0.55      0.61      0.58       585\n",
      "           1       0.52      0.52      0.52       546\n",
      "           2       0.05      0.01      0.02        89\n",
      "\n",
      "    accuracy                           0.52      1220\n",
      "   macro avg       0.37      0.38      0.37      1220\n",
      "weighted avg       0.50      0.52      0.51      1220\n",
      "\n"
     ]
    }
   ],
   "source": [
    "print(confusion_matrix(y_test,rfc_pred))\n",
    "print(classification_report(y_test,rfc_pred))"
   ]
  },
  {
   "cell_type": "code",
   "execution_count": 252,
   "metadata": {},
   "outputs": [
    {
     "data": {
      "text/plain": [
       "0.5245901639344263"
      ]
     },
     "execution_count": 252,
     "metadata": {},
     "output_type": "execute_result"
    }
   ],
   "source": [
    "accuracy_score(y_test, rfc_pred, normalize=True, sample_weight=None)"
   ]
  },
  {
   "cell_type": "code",
   "execution_count": 184,
   "metadata": {},
   "outputs": [],
   "source": [
    "labels = list(df.columns)"
   ]
  },
  {
   "cell_type": "code",
   "execution_count": 185,
   "metadata": {},
   "outputs": [
    {
     "data": {
      "text/plain": [
       "[('Rating', 0.14610218997856667),\n",
       " ('Coffee_Origin', 0.06826659806584426),\n",
       " ('Roast_level', 0.3483138434521311),\n",
       " ('Est.Price', 0.04567209281246169),\n",
       " ('Aroma_level', 0.04914778738516699),\n",
       " ('Acidity_level', 0.04884577577730529),\n",
       " ('Flavor_level', 0.06045605224592099),\n",
       " ('Aftertaste_level', 0.23319566028260305)]"
      ]
     },
     "execution_count": 185,
     "metadata": {},
     "output_type": "execute_result"
    }
   ],
   "source": [
    "importances = list(rfc.feature_importances_)\n",
    "\n",
    "[(label,importance) for label,importance in zip(labels,importances)]\n",
    "    \n",
    "    \n",
    "#     feature_importances = [(feature, round(importance, 2)) for feature, importance in zip(feature_list, importances)]"
   ]
  },
  {
   "cell_type": "markdown",
   "metadata": {},
   "source": [
    "## Conclusion \n",
    "\n",
    "Using a Random Forest Classifier results in around __52-55% accuracy__ in detecting the correct origin from where the coffee is from using the features listed above. \n",
    "\n",
    "Ways to improve accuracy: \n",
    "- Getting rid of unnecessary features in the dataset \n",
    "- Write a better origin function that gets more data points for each region OR simply get more data points (Asia only had about 200 entries and can benefit from having a lot more) \n",
    "- Adjust more parameters of RFC \n",
    "- Use a different data set that qualiatively shows differences in the coffee bean. (Not ideal and may not even be necessary with continued improvements)   \n",
    " -This suggestion is more a quick fix/unrealistic method of improving model performance"
   ]
  }
 ],
 "metadata": {
  "kernelspec": {
   "display_name": "Python 3",
   "language": "python",
   "name": "python3"
  },
  "language_info": {
   "codemirror_mode": {
    "name": "ipython",
    "version": 3
   },
   "file_extension": ".py",
   "mimetype": "text/x-python",
   "name": "python",
   "nbconvert_exporter": "python",
   "pygments_lexer": "ipython3",
   "version": "3.7.6"
  }
 },
 "nbformat": 4,
 "nbformat_minor": 4
}
